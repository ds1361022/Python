{
 "cells": [
  {
   "cell_type": "markdown",
   "metadata": {},
   "source": [
    "## Introduction"
   ]
  },
  {
   "cell_type": "markdown",
   "metadata": {},
   "source": [
    "In this lab, you will practice doing some basic data analysis with Python in a Jupyter notebook.  The tasks are described above each code cell.  For most of the code cells, you will need to add or edit code to achieve the desired results.\n",
    "\n",
    "<div class=\"alert alert-block alert-info\">Note that code cells later in this document may depend on results generated in code cells earlier. Errors at one point may be the result of a mistake in an earlier section.</div>\n",
    "\n",
    "You are encouraged to add your own code cells if you need them for calculations or testing.  However, the existing ones should not be deleted, only modified.\n",
    "\n",
    "The code block immediately below creates two sets of values that represent the data you will be analyzing.  Do not alter it. When your lab is checked off, you may be given a different data set to try your solution against.\n",
    "\n",
    "To make the IPv4 addresses understandable to humans, we express the 32 bit address in dotted decimal notation.  The computer and other networking equipment see the address as a 32 bit unsigned integer.\n",
    "\n",
    "For example, a dotted decimal IPv4 address of 172.16.0.90 would appear as 2886729818 as unsigned 32 bit integer. "
   ]
  },
  {
   "cell_type": "code",
   "execution_count": 5,
   "metadata": {
    "scrolled": false
   },
   "outputs": [],
   "source": [
    "# This code will load some arrays of values (representing IP addresses) that will be the data you analyze.\n",
    "ATestData = [1,15,21000] #Data just used for demonstration purposes below\n",
    "AIPv4 = [183701260, 2886729818, 3232262221] # IPv4 Addresses as 32 bit unsigned integers.\n",
    "AIPv6 = [50676837304797101770098216615581355727, \\\n",
    "         50552053919394022754227030794306592771, \\\n",
    "         50511070201072350933196297931040234186 ] # IPv6 Addresses as 128 bit unsigned integers."
   ]
  },
  {
   "cell_type": "markdown",
   "metadata": {},
   "source": [
    "The code block below shows some examples of iterating (looping) through an array. You will frequently need to perform the same operation on all of the elements of one of your lists.  This is how to do it."
   ]
  },
  {
   "cell_type": "code",
   "execution_count": 3,
   "metadata": {},
   "outputs": [
    {
     "name": "stdout",
     "output_type": "stream",
     "text": [
      "Print the contents of a list:\n",
      "[1, 15, 21000]\n",
      "\n",
      "Print out all of the elements in a list (one at a time):\n",
      "1\n",
      "15\n",
      "21000\n",
      "\n",
      "Create a new list based on the elements in an old list (iteratively):\n",
      "2\n",
      "30\n",
      "42000\n",
      "\n",
      "Create a new list based on old list (using list comprehension)\n",
      "3\n",
      "45\n",
      "63000\n"
     ]
    }
   ],
   "source": [
    "print(\"Print the contents of a list:\")\n",
    "print(ATestData)\n",
    "\n",
    "print (\"\\nPrint out all of the elements in a list (one at a time):\")\n",
    "for x in ATestData:\n",
    "    print(x)\n",
    "\n",
    "print (\"\\nCreate a new list based on the elements in an old list (iteratively):\")\n",
    "# Create new list and add elements\n",
    "ADoubleTestData = [] #Empty list\n",
    "for x in ATestData:\n",
    "    ADoubleTestData.append(x*2) #Add element that is double original\n",
    "    \n",
    "#Now print the results from above:\n",
    "for y in ADoubleTestData:\n",
    "    print(y)\n",
    "\n",
    "#You can do the above more elegantly, but this is an advanced\n",
    "#topic.  You can use it if you wish.\n",
    "print (\"\\nCreate a new list based on old list (using list comprehension)\")\n",
    "ATripleTestData = [i*3 for i in ATestData]\n",
    "for z in ATripleTestData:\n",
    "    print(z)\n",
    "    "
   ]
  },
  {
   "cell_type": "markdown",
   "metadata": {},
   "source": [
    "## Part 1: Display IP Addresses in Standard Format\n",
    "\n",
    "In this section, you will take your lists of numbers (which represent IP Addresses) and print them out using standard notation: dotted decimal (192.197.128.18) for IPv4 and the much more sane colon-delimited hexadecimal format(2001:db8:85a3::8a2e:370:7334) for IPv6.\n",
    "\n",
    "### IPv4\n",
    "\n",
    "Complete the code below, as indicated in the comments, that will generate a list of IPv4 addresses using dotted decimal format. The output result should be saved as a list of strings in a variable named `ADDec`."
   ]
  },
  {
   "cell_type": "code",
   "execution_count": 5,
   "metadata": {},
   "outputs": [
    {
     "name": "stdout",
     "output_type": "stream",
     "text": [
      "['10.243.15.12', '172.16.0.90', '192.168.104.77']\n"
     ]
    }
   ],
   "source": [
    "#Iterate AIPv4 from above.\n",
    "\n",
    "AIPv4 = [183701260, 2886729818, 3232262221]\n",
    "\n",
    "# Declare my empty list\n",
    "ADDec = []\n",
    "\n",
    "# Iterate through list of IPv4 Addresses\n",
    "for addy in AIPv4:\n",
    "    # There are three 32 bit values provided in the list AIPv4. Each 32 bit value represents one IPv4 address.\n",
    "    # For each IPv4 address, find the four octets (most significant to least significant).\n",
    "    # This will require using bitwise operators and masking.\n",
    "    # Remember each octet is only 8 bits, so you will need to extract each octet from the 32 bit value provided.\n",
    "    oct1 = int(bin(addy)[2:].zfill(32)[0:8], 2)  #REPLACE THIS WITH YOUR CODE TO GENERATE THE VALUE OF THE LEFTMOST BYTE (0-255)\n",
    "    oct2 = int(bin(addy)[2:].zfill(32)[8:16], 2)  #AS ABOVE\n",
    "    oct3 = int(bin(addy)[2:].zfill(32)[16:24], 2)  #AS ABOVE\n",
    "    oct4 = int(bin(addy)[2:].zfill(32)[24:], 2)  #AS ABOVE\n",
    "    \n",
    "    # Now, assemble a string from those 4 numbers, separated by periods/decimal points:\n",
    "    # Knowing how to convert a number to a string will be helpful here.\n",
    "    addyString = str(oct1) + \".\" + str(oct2) + \".\" + str(oct3) + \".\" + str(oct4)\n",
    "    \n",
    "    # Add the string to your new array\n",
    "    ADDec.append(addyString)\n",
    "    \n",
    "# Optional, for debugging\n",
    "print(ADDec)"
   ]
  },
  {
   "cell_type": "markdown",
   "metadata": {},
   "source": [
    "### IPv6\n",
    "\n",
    "IPv6 uses 128 bit unsigned integers for addressing.  To make IPv6 addresses readble for humans, the address is represented as eight groups of four hexadecimal digits. The groups are separated by full colons (:).\n",
    "\n",
    "For example: 2620:fc:0:30d0:99bd:b8dc:8fc1:a3f3\n",
    "\n",
    "Leading zeros can be omitted, but in general at least one hexadecimal digit must appear in each group.  The exception to this rule is when multiple consecutive groups contain zeros, then these groups can be replaces with two full colons (::).  This exception can only be made once for a given IPv6 address.\n",
    "\n",
    "For example: fe80:0:0:0:26c:bcff:fe1d:418e could be expressed as fe80::26c:bcff:fe1d:418e.\n",
    "\n",
    "The IPv6 address of 2620:fc:0:30d0:99bd:b8dc:8fc1:a3f3 would be 50676837304797101770662876736666051578 as an 128 bit unsigned integer.\n",
    "\n",
    "Now, perform the same task for your set of IPv6 addresses ('AIPv6'). Store the result in an array named `AIPv6Colhex`.  Ensure you use the standard format of strings of four hex digits, each group separated by colons (:). Full marks will require that you also adhere to the convention of dropping leading zeroes (`:12B:` rather than `:012B:`).  You are not required to replace chains of sequential zeros.\n"
   ]
  },
  {
   "cell_type": "code",
   "execution_count": 6,
   "metadata": {},
   "outputs": [
    {
     "name": "stdout",
     "output_type": "stream",
     "text": [
      "['2620:fc:0:30d0:91e7:a579:1fac:8ecf', '2607:f8b0:400a:800:0:0:0:2003', '2600:1409:0:290:0:0:0:1aca']\n"
     ]
    }
   ],
   "source": [
    "#Create raw decimal IPV6 address list.\n",
    "\n",
    "DecimalList = [50676837304797101770098216615581355727, \\\n",
    "         50552053919394022754227030794306592771, \\\n",
    "         50511070201072350933196297931040234186 ]\n",
    "\n",
    "# Declare empty output lists\n",
    "\n",
    "IPV6List = []\n",
    "CombinedHexList = []\n",
    "\n",
    "# Iterate through list of decimal IPv6 addresses\n",
    "for DecimalAddress in DecimalList:\n",
    "    \n",
    "    #Set default variables to process DecimalAddress\n",
    "    SingularHexList = []\n",
    "    Counter = 0\n",
    "    Start = 0\n",
    "    End = 0\n",
    "\n",
    "    # Convert decimal address value to individual IPV6 hex equivalent.\n",
    "    while Counter < 32:\n",
    "        End += 4\n",
    "        SingularHex = hex(int(bin(DecimalAddress)[2:].zfill(128)[Start:End], 2))[2:]\n",
    "        Start += 4\n",
    "\n",
    "        # Append hextet hexadecimal value\n",
    "        SingularHexList.append(str(SingularHex))\n",
    "        Counter += 1\n",
    "\n",
    "    # Combine hex values into a single string.\n",
    "    CombinedHexList.append(\"\".join(SingularHexList))\n",
    "\n",
    "#Iterate through list of raw hexadecimal addresses.\n",
    "for RawHexAddress in CombinedHexList:\n",
    "    \n",
    "    #Set default variables to process individual raw hex addresses.\n",
    "    HextetList = []\n",
    "    RawHexList = []\n",
    "    count = 0\n",
    "    Start = 0\n",
    "    End = 0\n",
    "\n",
    "\n",
    "    # Strip leading 0s, add colon, and combine hextet into a list.\n",
    "    while count < 8:\n",
    "        End += 4\n",
    "        RawHexList = RawHexAddress[Start:End]\n",
    "        RawHextet = \"\".join(RawHexList)\n",
    "        RawHextetNoZeroes = RawHextet.lstrip(\"0\")\n",
    "\n",
    "        #Set minimum number of zeroes\n",
    "        if len(RawHextetNoZeroes) < 1:\n",
    "            RawHextetNoZeroes = \"0\"\n",
    "\n",
    "        # Add colon separator to RawHextet\n",
    "        if count < 7:\n",
    "            RawHextetNoZeroes = RawHextetNoZeroes + \":\"\n",
    "\n",
    "        HextetList.append(RawHextetNoZeroes)\n",
    "        Start += 4\n",
    "        count += 1\n",
    "        \n",
    "    ###Space below reserved for longest & left-most consecutive zero removal feature.\n",
    "    #print(HextetList)\n",
    "    ###Space above reserved for longest & left-most consecutive zero removal feature.\n",
    "    \n",
    "    # Combine HextetList into a single string and append to complete address list.\n",
    "    IPV6List.append(\"\".join(HextetList))\n",
    "\n",
    "#Print final product.\n",
    "print(IPV6List)"
   ]
  },
  {
   "cell_type": "markdown",
   "metadata": {},
   "source": [
    "## Part 2: Display IP Classes\n",
    "\n",
    "In this section, you will print out the classes (A,B,C, ...) for the IPv4 addresses. You do not need to use the results from the previous section (converting the numeric IP addresses to string represenations), but are welcome to. There are multiple ways to accomplish this. Feel free to be creative.\n",
    "\n",
    "The occurrance of the first zero, starting at the left hand (MSB) of the 32 bit address, determines the address class.  If the most significant bit is a zero, then the address is Class A.  If the MSB is one, and the second bit is zero, then the address is Class B.  If the first two significant bits are ones, and the third bit is zero, then the address is Class C.\n",
    "\n",
    "Class A: 0.0.0.0 through 127.255.255.255\n",
    "\n",
    "Class B: 128.0.0.0 through 191.255.255.255\n",
    "\n",
    "Class c: 192.0.0.0 through 223.255.255.255"
   ]
  },
  {
   "cell_type": "markdown",
   "metadata": {},
   "source": [
    "### IPv4\n",
    "\n",
    "Print out the IP address class for the supplied set of 32-bit numeric addresses.\n",
    "The output should look like the below, one line per address:\n",
    "```\n",
    "0167772160 - Class A\n",
    "3232235777 - Class C\n",
    "```\n",
    "Note that you should use leading zeroes to pad the width of the integer out to 10 digits (the maximum for a 32-bit number expressed in decimal). **Hint: String formatters make this fairly easy.**"
   ]
  },
  {
   "cell_type": "code",
   "execution_count": 2,
   "metadata": {
    "scrolled": false
   },
   "outputs": [
    {
     "name": "stdout",
     "output_type": "stream",
     "text": [
      "183701260 - Class A\n",
      "2886729818 - Class B\n",
      "3232262221 - Class C\n"
     ]
    }
   ],
   "source": [
    "#Iterate AIPv4 from above.\n",
    "AIPv4 = [183701260, 2886729818, 3232262221]\n",
    "\n",
    "# Iterate through list of IPv4 Addresses\n",
    "for addy in AIPv4:\n",
    "    #Convert addy to binary and evaluate first 8 bits (octet) as an integer.\n",
    "    BinaryAddress = bin(addy)[2:].zfill(32)[0:8]\n",
    "    \n",
    "    #Evaluate\n",
    "    addyclass = \"A\" if BinaryAddress[0] == \"0\" \\\n",
    "           else \"B\" if BinaryAddress[0:2] == \"10\" \\\n",
    "           else \"C\" if BinaryAddress[0:3] == \"110\" \\\n",
    "           else \"D\" if BinaryAddress[0:4] == \"1110\" \\\n",
    "           else \"E\" if BinaryAddress[0:4] == \"1111\" \\\n",
    "           else \"Unknown\"\n",
    "           \n",
    "    #Print address unsigned integer and evaluated address class\n",
    "    print(\"%d - Class %s\" % (addy, addyclass))"
   ]
  },
  {
   "cell_type": "markdown",
   "metadata": {},
   "source": [
    "## Part 3: Display Network Address\n",
    "\n",
    "In this section, you will print out the network address (the IP that refers to all addresses in the network, with all bits in the subnet portion of the address set to 0) for all of the addresses in the provided set of numeric IPv4 addresses.  Determine the class of the address and then print out (in dotted-decimal format, naturally) the associated network address.  For example, the address `192.168.5.23` is a class C address, so its network would be `192.168.5.0`.\n",
    "\n",
    "**Hint: You will likely find that some of the code you wrote for the previous section(s)&mdash;like the code for detecting the address class&mdash;will be valuable here.**"
   ]
  },
  {
   "cell_type": "code",
   "execution_count": 9,
   "metadata": {},
   "outputs": [
    {
     "name": "stdout",
     "output_type": "stream",
     "text": [
      "The network address for 183701260 is 10.0.0.0; this is a class A address.\n",
      "The network address for 2886729818 is 172.16.0.0; this is a class B address.\n",
      "The network address for 3232262221 is 192.168.104.0; this is a class C address.\n"
     ]
    }
   ],
   "source": [
    "#Iterate AIPv4 from above.\n",
    "AIPv4 = [183701260, 2886729818, 3232262221]\n",
    "\n",
    "# Iterate through list of IPv4 Addresses\n",
    "for addy in AIPv4:\n",
    "    #Convert the address to binary.\n",
    "    BinaryAddress = bin(addy)[2:].zfill(32)\n",
    "    \n",
    "    #Determine the address class\n",
    "    addyclass = \"A\" if BinaryAddress[0] == \"0\" \\\n",
    "           else \"B\" if BinaryAddress[0:2] == \"10\" \\\n",
    "           else \"C\" if BinaryAddress[0:3] == \"110\" \\\n",
    "           else \"D\" if BinaryAddress[0:4] == \"111\" \\\n",
    "           else \"E\"\n",
    "\n",
    "    #Determine the octet values\n",
    "    Octet1 = int(bin(addy)[2:].zfill(32)[0:8], 2)\n",
    "    Octet2 = int(bin(addy)[2:].zfill(32)[8:16], 2)\n",
    "    Octet3 = int(bin(addy)[2:].zfill(32)[16:24], 2)\n",
    "    Octet4 = int(bin(addy)[2:].zfill(32)[24:], 2)\n",
    "    \n",
    "    #Determine and print the network address.\n",
    "    if addyclass == \"A\":\n",
    "        Octet2 = 0\n",
    "        Octet3 = 0\n",
    "        Octet4 = 0\n",
    "        \n",
    "    elif addyclass == \"B\":\n",
    "        Octet3 = 0\n",
    "        Octet4 = 0\n",
    "    elif addyclass == \"C\":\n",
    "        Octet4 = 0\n",
    "    \n",
    "    print(\"The network address for %d is %d.%d.%d.%d; this is a class %s address.\"\\\n",
    "          % (addy, Octet1, Octet2, Octet3, Octet4, addyclass))"
   ]
  }
 ],
 "metadata": {
  "kernelspec": {
   "display_name": "Python 3",
   "language": "python",
   "name": "python3"
  },
  "language_info": {
   "codemirror_mode": {
    "name": "ipython",
    "version": 3
   },
   "file_extension": ".py",
   "mimetype": "text/x-python",
   "name": "python",
   "nbconvert_exporter": "python",
   "pygments_lexer": "ipython3",
   "version": "3.7.3"
  }
 },
 "nbformat": 4,
 "nbformat_minor": 2
}
